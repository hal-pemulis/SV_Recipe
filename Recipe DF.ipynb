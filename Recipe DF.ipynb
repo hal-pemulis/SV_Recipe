{
 "cells": [
  {
   "cell_type": "markdown",
   "metadata": {},
   "source": [
    "# Recipe dataframe"
   ]
  },
  {
   "cell_type": "code",
   "execution_count": 1,
   "metadata": {},
   "outputs": [],
   "source": [
    "import pandas as pd\n",
    "import random\n",
    "import matplotlib.pyplot as plt\n",
    "import json\n",
    "from pprint import pprint"
   ]
  },
  {
   "cell_type": "code",
   "execution_count": 2,
   "metadata": {},
   "outputs": [],
   "source": [
    "filepath = \"Resources/recipes_raw/recipes_raw_nosource_fn.json\"\n",
    "\n",
    "with open(filepath) as jsonfile:\n",
    "    json_data = json.load(jsonfile)"
   ]
  },
  {
   "cell_type": "code",
   "execution_count": 11,
   "metadata": {},
   "outputs": [],
   "source": [
    "title = []\n",
    "ingredients = []\n",
    "instructions = []\n",
    "pics = []\n",
    "\n",
    "for x in json_data:\n",
    "    try:\n",
    "        title.append(json_data[x]['title'])\n",
    "        ingredients.append(json_data[x]['ingredients'])\n",
    "        instructions.append(json_data[x]['instructions'])\n",
    "        pics.append(json_data[x]['picture_link'])\n",
    "    except:\n",
    "        1 == 1"
   ]
  },
  {
   "cell_type": "code",
   "execution_count": 12,
   "metadata": {},
   "outputs": [
    {
     "data": {
      "text/html": [
       "<div>\n",
       "<style scoped>\n",
       "    .dataframe tbody tr th:only-of-type {\n",
       "        vertical-align: middle;\n",
       "    }\n",
       "\n",
       "    .dataframe tbody tr th {\n",
       "        vertical-align: top;\n",
       "    }\n",
       "\n",
       "    .dataframe thead th {\n",
       "        text-align: right;\n",
       "    }\n",
       "</style>\n",
       "<table border=\"1\" class=\"dataframe\">\n",
       "  <thead>\n",
       "    <tr style=\"text-align: right;\">\n",
       "      <th></th>\n",
       "      <th>Title</th>\n",
       "      <th>Ingredients</th>\n",
       "      <th>Instructions</th>\n",
       "      <th>Picture link</th>\n",
       "    </tr>\n",
       "  </thead>\n",
       "  <tbody>\n",
       "    <tr>\n",
       "      <td>0</td>\n",
       "      <td>Grammie Hamblet's Deviled Crab</td>\n",
       "      <td>[1/2 cup celery, finely chopped, 1 small green...</td>\n",
       "      <td>Toss ingredients lightly and spoon into a butt...</td>\n",
       "      <td>None</td>\n",
       "    </tr>\n",
       "    <tr>\n",
       "      <td>1</td>\n",
       "      <td>Infineon Raceway Baked Beans</td>\n",
       "      <td>[2 pounds skirt steak, cut into 1/2-inch dice,...</td>\n",
       "      <td>Watch how to make this recipe.\\nSprinkle the s...</td>\n",
       "      <td>Ja5uaD8Q7m7vvtWwk2.48dr1eCre/qi</td>\n",
       "    </tr>\n",
       "    <tr>\n",
       "      <td>2</td>\n",
       "      <td>Southwestern Black Bean Dip</td>\n",
       "      <td>[1 1/2 cups dried black beans, picked over and...</td>\n",
       "      <td>In a large saucepan, let the beans soak in eno...</td>\n",
       "      <td>None</td>\n",
       "    </tr>\n",
       "    <tr>\n",
       "      <td>3</td>\n",
       "      <td>Sour Cream Noodle Bake</td>\n",
       "      <td>[1 1/4 pounds ground chuck, One 15-ounce can t...</td>\n",
       "      <td>Watch how to make this recipe.\\nPreheat the ov...</td>\n",
       "      <td>nm/WxalB.VjEZSa0iX9RuZ8xI51Y7bS</td>\n",
       "    </tr>\n",
       "    <tr>\n",
       "      <td>4</td>\n",
       "      <td>Sushi Renovation</td>\n",
       "      <td>[1 cup rice, brown, medium-grain, cooked, 1/2-...</td>\n",
       "      <td>Special equipment: sushi mat\\nCook the brown r...</td>\n",
       "      <td>None</td>\n",
       "    </tr>\n",
       "  </tbody>\n",
       "</table>\n",
       "</div>"
      ],
      "text/plain": [
       "                            Title  \\\n",
       "0  Grammie Hamblet's Deviled Crab   \n",
       "1    Infineon Raceway Baked Beans   \n",
       "2     Southwestern Black Bean Dip   \n",
       "3          Sour Cream Noodle Bake   \n",
       "4                Sushi Renovation   \n",
       "\n",
       "                                         Ingredients  \\\n",
       "0  [1/2 cup celery, finely chopped, 1 small green...   \n",
       "1  [2 pounds skirt steak, cut into 1/2-inch dice,...   \n",
       "2  [1 1/2 cups dried black beans, picked over and...   \n",
       "3  [1 1/4 pounds ground chuck, One 15-ounce can t...   \n",
       "4  [1 cup rice, brown, medium-grain, cooked, 1/2-...   \n",
       "\n",
       "                                        Instructions  \\\n",
       "0  Toss ingredients lightly and spoon into a butt...   \n",
       "1  Watch how to make this recipe.\\nSprinkle the s...   \n",
       "2  In a large saucepan, let the beans soak in eno...   \n",
       "3  Watch how to make this recipe.\\nPreheat the ov...   \n",
       "4  Special equipment: sushi mat\\nCook the brown r...   \n",
       "\n",
       "                      Picture link  \n",
       "0                             None  \n",
       "1  Ja5uaD8Q7m7vvtWwk2.48dr1eCre/qi  \n",
       "2                             None  \n",
       "3  nm/WxalB.VjEZSa0iX9RuZ8xI51Y7bS  \n",
       "4                             None  "
      ]
     },
     "execution_count": 12,
     "metadata": {},
     "output_type": "execute_result"
    }
   ],
   "source": [
    "recipe_data = pd.DataFrame({\"Title\":title,\n",
    "                            \"Ingredients\":ingredients,\n",
    "                            \"Instructions\":instructions,\n",
    "                            \"Picture link\":pics})\n",
    "\n",
    "recipe_data.head()"
   ]
  },
  {
   "cell_type": "code",
   "execution_count": null,
   "metadata": {},
   "outputs": [],
   "source": []
  }
 ],
 "metadata": {
  "kernelspec": {
   "display_name": "Python 3",
   "language": "python",
   "name": "python3"
  },
  "language_info": {
   "codemirror_mode": {
    "name": "ipython",
    "version": 3
   },
   "file_extension": ".py",
   "mimetype": "text/x-python",
   "name": "python",
   "nbconvert_exporter": "python",
   "pygments_lexer": "ipython3",
   "version": "3.7.4"
  }
 },
 "nbformat": 4,
 "nbformat_minor": 2
}
