{
 "cells": [
  {
   "cell_type": "markdown",
   "metadata": {},
   "source": [
    "# Recipe Generator"
   ]
  },
  {
   "cell_type": "code",
   "execution_count": 1,
   "metadata": {},
   "outputs": [],
   "source": [
    "import pandas as pd\n",
    "import random\n",
    "import matplotlib.pyplot as plt\n",
    "import json\n",
    "from pprint import pprint"
   ]
  },
  {
   "cell_type": "code",
   "execution_count": 2,
   "metadata": {},
   "outputs": [],
   "source": [
    "filepath = \"Resources/recipes_raw/recipes_raw_nosource_fn.json\"\n",
    "\n",
    "with open(filepath) as jsonfile:\n",
    "    json_data = json.load(jsonfile)"
   ]
  },
  {
   "cell_type": "code",
   "execution_count": 3,
   "metadata": {},
   "outputs": [
    {
     "name": "stdout",
     "output_type": "stream",
     "text": [
      "What would you like to cook today?\n",
      "ravioli\n"
     ]
    }
   ],
   "source": [
    "recipe = input(\"What would you like to cook today?\\n\")"
   ]
  },
  {
   "cell_type": "code",
   "execution_count": 4,
   "metadata": {},
   "outputs": [],
   "source": [
    "keys = []\n",
    "\n",
    "for x in json_data:\n",
    "    try:\n",
    "\n",
    "        if recipe.lower() in json_data[x]['title'].lower():\n",
    "            keys.append(x)\n",
    "    except:\n",
    "        1 == 1"
   ]
  },
  {
   "cell_type": "code",
   "execution_count": 6,
   "metadata": {},
   "outputs": [
    {
     "name": "stdout",
     "output_type": "stream",
     "text": [
      "Black and White Lobster Ravioli in a Seafood Cream Sauce\n",
      "\n",
      "Ingredients:\n",
      "• 4 ounces mixed shellfish (shrimp, lobster, crab, mussels, etc)\n",
      "• 1/4 ounce white wine\n",
      "• 2 tablespoons butter\n",
      "• 1/2 cup heavy cream\n",
      "• 2 ounces Roma tomatoes, diced\n",
      "• 1 ounce white pearl onions, diced\n",
      "• 1 ounce shallots\n",
      "• 1 tablespoon tarragon\n",
      "• 1/2 pound Florentyna's Black and White Langostino (lobster) ravioli\n",
      "\n",
      "Directions:\n",
      "Saute shellfish in butter. Add wine, onions, shallots, and tomatoes. Simmer for 3 minutes, and stir to blend while bringing to a boil. Add heavy cream and tarragon. Cook lobster raviolis in water at a rolling boil for 2 to 3 minutes, or until most float. Strain and plate ravioli, pour seafood cream sauce over. Serve hot.\n",
      "\n",
      "\n"
     ]
    }
   ],
   "source": [
    "rand_num = random.randint(0,len(keys))\n",
    "                   \n",
    "print(f\"{json_data[keys[rand_num]]['title']}\\n\")\n",
    "print('Ingredients:')\n",
    "for ingredient in json_data[keys[rand_num]]['ingredients']:\n",
    "      print(f\"• {ingredient}\")\n",
    "print('\\nDirections:')\n",
    "print(f\"{json_data[keys[rand_num]]['instructions']}\\n\\n\")"
   ]
  }
 ],
 "metadata": {
  "kernelspec": {
   "display_name": "Python 3",
   "language": "python",
   "name": "python3"
  },
  "language_info": {
   "codemirror_mode": {
    "name": "ipython",
    "version": 3
   },
   "file_extension": ".py",
   "mimetype": "text/x-python",
   "name": "python",
   "nbconvert_exporter": "python",
   "pygments_lexer": "ipython3",
   "version": "3.7.4"
  }
 },
 "nbformat": 4,
 "nbformat_minor": 2
}
