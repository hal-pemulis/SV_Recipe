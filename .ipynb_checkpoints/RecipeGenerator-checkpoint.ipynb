{
 "cells": [
  {
   "cell_type": "markdown",
   "metadata": {},
   "source": [
    "# Recipe Generator"
   ]
  },
  {
   "cell_type": "code",
   "execution_count": 96,
   "metadata": {},
   "outputs": [],
   "source": [
    "import pandas as pd\n",
    "import random\n",
    "import matplotlib.pyplot as plt\n",
    "import json\n",
    "from pprint import pprint"
   ]
  },
  {
   "cell_type": "code",
   "execution_count": 14,
   "metadata": {},
   "outputs": [],
   "source": [
    "filepath = \"Resources/recipes_raw/recipes_raw_nosource_fn.json\"\n",
    "\n",
    "with open(filepath) as jsonfile:\n",
    "    json_data = json.load(jsonfile)"
   ]
  },
  {
   "cell_type": "code",
   "execution_count": 69,
   "metadata": {},
   "outputs": [
    {
     "name": "stdout",
     "output_type": "stream",
     "text": [
      "What would you like to cook today?\n",
      "pizza\n"
     ]
    }
   ],
   "source": [
    "recipe = input(\"What would you like to cook today?\\n\")"
   ]
  },
  {
   "cell_type": "code",
   "execution_count": 71,
   "metadata": {},
   "outputs": [],
   "source": [
    "keys = []\n",
    "\n",
    "for x in json_data:\n",
    "    try:\n",
    "\n",
    "        if recipe.lower() in json_data[x]['title'].lower():\n",
    "            keys.append(x)\n",
    "    except:\n",
    "        1 == 1"
   ]
  },
  {
   "cell_type": "code",
   "execution_count": 95,
   "metadata": {},
   "outputs": [
    {
     "name": "stdout",
     "output_type": "stream",
     "text": [
      "Pizza Pockets/Purse\n",
      "\n",
      "Ingredients:\n",
      "• 2 cups diced tomatoes\n",
      "• 1/2 cup julienned red onions\n",
      "• 1 tablespoon fresh minced parsley\n",
      "• 1 tablespoon fresh minced thyme\n",
      "• 1 teaspoon ground cumin\n",
      "• 1 teaspoon celery salt\n",
      "• 1 teaspoon kosher salt\n",
      "• 1/2 teaspoon ground white pepper\n",
      "• Oil, for deep frying\n",
      "• Twelve 5-inch square egg roll wrappers\n",
      "• 1 1/2 cups shredded mozzarella\n",
      "• 1/4 cup cornstarch\n",
      "• Shredded Parmesan, for garnish\n",
      "\n",
      "Directions:\n",
      "For the red sauce: Combine the tomatoes, onions, parsley, thyme, cumin, celery salt, kosher salt and white pepper in a saucepan. Cook, stirring, for 1 hour. The sauce should be reduced to about 1 1/4 cups. Add more salt and pepper to taste, if needed.\n",
      "Heat oil in a deep-fryer or a large, heavy pot to 375 degrees F.\n",
      "Lay the wrappers on a flat clean surface. Blend the cheese and 1/4 cup red sauce in a bowl to create the stuffing. Blend the cornstarch and 1/4 cup water in another bowl, mixing well to create a slurry. Brush the edges of the wrappers with slurry, then place a dollop of sauced cheese in the center of each wrapper. Bring the edges of the wrappers towards the center in a cone shape, and then pinch and seal the bottom edge over to create a triangle.\n",
      "Fry the pockets until golden, 3 minutes, and then remove with a slotted spoon and allow excess oil to drip over paper towels. Sprinkle with Parmesan and serve over remaining red sauce.\n",
      "\n",
      "\n"
     ]
    }
   ],
   "source": [
    "rand_num = random.randint(0,len(keys))\n",
    "                   \n",
    "print(f\"{json_data[keys[rand_num]]['title']}\\n\")\n",
    "print('Ingredients:')\n",
    "for ingredient in json_data[keys[rand_num]]['ingredients']:\n",
    "      print(f\"• {ingredient}\")\n",
    "print('\\nDirections:')\n",
    "print(f\"{json_data[keys[rand_num]]['instructions']}\\n\\n\")"
   ]
  },
  {
   "cell_type": "markdown",
   "metadata": {},
   "source": [
    "# Data analytics"
   ]
  },
  {
   "cell_type": "code",
   "execution_count": null,
   "metadata": {},
   "outputs": [],
   "source": [
    "for x in json_data:\n",
    "    if recipe.lower() in json_data[x]['title'].lower():"
   ]
  }
 ],
 "metadata": {
  "kernelspec": {
   "display_name": "Python 3",
   "language": "python",
   "name": "python3"
  },
  "language_info": {
   "codemirror_mode": {
    "name": "ipython",
    "version": 3
   },
   "file_extension": ".py",
   "mimetype": "text/x-python",
   "name": "python",
   "nbconvert_exporter": "python",
   "pygments_lexer": "ipython3",
   "version": "3.7.4"
  }
 },
 "nbformat": 4,
 "nbformat_minor": 2
}
