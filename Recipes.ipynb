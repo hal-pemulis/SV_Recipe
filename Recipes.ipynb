{
 "cells": [
  {
   "cell_type": "code",
   "execution_count": 13,
   "metadata": {},
   "outputs": [],
   "source": [
    "import pandas as pd\n",
    "import random\n",
    "import matplotlib.pyplot as plt\n",
    "import json\n",
    "from pprint import pprint"
   ]
  },
  {
   "cell_type": "code",
   "execution_count": 14,
   "metadata": {},
   "outputs": [],
   "source": [
    "filepath = \"Resources/recipes_raw/recipes_raw_nosource_fn.json\"\n",
    "\n",
    "with open(filepath) as jsonfile:\n",
    "    json_data = json.load(jsonfile)"
   ]
  },
  {
   "cell_type": "code",
   "execution_count": 32,
   "metadata": {},
   "outputs": [
    {
     "name": "stdout",
     "output_type": "stream",
     "text": [
      "What would you like to cook today?\n",
      "pizza\n"
     ]
    }
   ],
   "source": [
    "recipe = input(\"What would you like to cook today?\\n\")"
   ]
  },
  {
   "cell_type": "code",
   "execution_count": 33,
   "metadata": {},
   "outputs": [
    {
     "name": "stdout",
     "output_type": "stream",
     "text": [
      "Pizza with Fried Calamari (from Al Forno)\n",
      "\n",
      "Ingredients:\n",
      "• Pizza Margherita, recipe follows\n",
      "• 5 ounces calamari, tubes and tenticles cleaned\n",
      "• 1 cup all-purpose flour\n",
      "• Hot Pepper Infused olive oil, recipe follows\n",
      "• Sliced scallions\n",
      "• 6 ounces Pizza Dough, recipe follows\n",
      "• 1/4 cup virgin olive oil, for brushing and drizzling\n",
      "• 1/2 teaspoon minced fresh garlic\n",
      "• 1/2 cup loosely packed shredded fontina\n",
      "• 2 tablespoons freshly grated Pecorino Romano\n",
      "• 6 tablespoons chopped canned tomatoes, in heavy puree\n",
      "• 8 basil leaves\n",
      "• 1 tablespoon active dry yeast\n",
      "• 6 cups high-gluten flour\n",
      "• 2 1/2 teaspoons kosher salt\n",
      "• Extra-virgin olive oil\n",
      "• 3 cups olive oil\n",
      "• 1/4 cup hot Hungarian paprika\n",
      "• 1/4 cup crushed red pepper flakes\n",
      "• 3 garlic cloves, peeled and trimmed\n",
      "\n",
      "Directions:\n",
      "Cut the tubes into rings. Lightly coat the squid with flour and fry 360 degree F oil until golden brown. We make this pizza the same way as the margarita except that the spicy oil is drizzled on instead of just olive oil and then the calamari is placed on top, and garnished with scallions.\n",
      "Prepare a hot charcoal fire, setting the grill rack 3 to 4 inches above the coals.\n",
      "On a large, oiled, inverted baking sheet, spread and flatten the pizza dough with your hands into a 10 to 12-inch free-form circle, 1/8-inch thick. Do not make a lip. You may end up with a rectangle rather than a circle; the shape is unimportant, but do take care to maintain an even thickness.\n",
      "When the fire is hot (when you can hold your hand over the coals for 3 to 4 seconds at a distance of 5 inches), use your fingertips to lift the dough gently by the 2 corners closest to you, and drape in onto the grill. Catch the loose edge on the grill first and slide the remaining dough into place over the fire. Within a minute the dough will puff slightly, the underside will stiffen, and grill marks will appear.\n",
      "Using tongs, immediately flip the crust over, onto the coolest part of the grill. Quickly brush the grilled surface with olive oil. Scatter the garlic and cheeses over the dough, and spoon dollops of tomato over the cheese. Do not cover the entire surface of the pizza with tomatoes. Finally, drizzle the pizza with 1 to 2 tablespoons of olive oil.\n",
      "Slide the pizza back toward the hot coals, but not directly over them. Using tongs, rotate the pizza frequently so that different sections receive high heat; check the underside often to see that it is not burning. The pizza is done when the top is bubbly and the cheese melted, about 6 to 8 minutes. Serve at once, topped with the basil leaves and additional olive oil, if desired.\n",
      "Pizza Dough: Sprinkle the yeast over 1/2 cup warm (105 to 110 degrees F) water and allow it to dissolve and activate, about 5 minutes. Combine the flour and salt and mound it onto a cool work surface creating a high walled well in the center. Combine the yeast mixture with 1 1/2 cups of cool water and pour into the well. Slowly begin to mix the water and flour, a little at a time, moving your fingers in short, counter clockwise circles around the border of the water. When the dough is firm enough to hold it's shape, scrape the remaining flour over it and knead until the mass is smooth and shiny, approximately 7 minutes. Transfer the dough to a bowl that has been brushed with olive oil. Brush the top of the dough with olive oil to prevent a skin from forming, cover the bowl with plastic wrap, and let rise in a warm place away from drafts until doubled in bulk, about 2 hours. Punch down the dough and knead once more. Let the dough rise again for about 40 minutes, punch down again and form dough into 4 balls.\n",
      "Combine all the ingredients in a heavy saucepan. Bring to a boil, lower the heat to very low, and gently simmer for 10 minutes. Remove from the heat and set aside for 30 minutes so the flavors continue to infuse the oil as it cools\n",
      "Strain the oil into a clean jar. When it has cooled to room temperature, cover and refrigerate.\n",
      "\n",
      "\n"
     ]
    }
   ],
   "source": [
    "for x in json_data:\n",
    "    if recipe.lower() in json_data[x]['title'].lower():\n",
    "        print(f\"{json_data[x]['title']}\\n\")\n",
    "        print('Ingredients:')\n",
    "        for ingredient in json_data[x]['ingredients']:\n",
    "              print(f\"• {ingredient}\")\n",
    "        print('\\nDirections:')\n",
    "        print(f\"{json_data[x]['instructions']}\\n\\n\")\n",
    "        break\n",
    "        "
   ]
  },
  {
   "cell_type": "markdown",
   "metadata": {},
   "source": [
    "# Data analytics"
   ]
  },
  {
   "cell_type": "code",
   "execution_count": null,
   "metadata": {},
   "outputs": [],
   "source": [
    "for x in json_data:\n",
    "    if recipe.lower() in json_data[x]['title'].lower():"
   ]
  }
 ],
 "metadata": {
  "kernelspec": {
   "display_name": "Python 3",
   "language": "python",
   "name": "python3"
  },
  "language_info": {
   "codemirror_mode": {
    "name": "ipython",
    "version": 3
   },
   "file_extension": ".py",
   "mimetype": "text/x-python",
   "name": "python",
   "nbconvert_exporter": "python",
   "pygments_lexer": "ipython3",
   "version": "3.7.4"
  }
 },
 "nbformat": 4,
 "nbformat_minor": 2
}
